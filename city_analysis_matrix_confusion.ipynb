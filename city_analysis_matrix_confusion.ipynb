{
  "cells": [
    {
      "cell_type": "markdown",
      "metadata": {
        "id": "XXfmCmojoZLw"
      },
      "source": [
        "Primero se descarga el dataset usando la API de kaggle y se descomprime.\n",
        "\n",
        "Luego se copia el cache de los tamannos de imagenes"
      ]
    },
    {
      "cell_type": "code",
      "execution_count": null,
      "metadata": {
        "colab": {
          "base_uri": "https://localhost:8080/"
        },
        "id": "6t8UpcOQhgdJ",
        "outputId": "b97b8d6a-0d25-4684-95d7-339dfc0fbc1b"
      },
      "outputs": [
        {
          "name": "stdout",
          "output_type": "stream",
          "text": [
            "Drive already mounted at /content/drive; to attempt to forcibly remount, call drive.mount(\"/content/drive\", force_remount=True).\n"
          ]
        }
      ],
      "source": [
        "from google.colab import drive\n",
        "drive.mount('/content/drive')"
      ]
    },
    {
      "cell_type": "code",
      "execution_count": null,
      "metadata": {
        "id": "uxU1mGaMYIr1"
      },
      "outputs": [],
      "source": [
        "!pip install rasterio\n",
        "!pip install opencv-python\n",
        "!pip install tensorflow\n",
        "!pip install h5py\n"
      ]
    },
    {
      "cell_type": "code",
      "execution_count": null,
      "metadata": {
        "id": "dxFNUSTcv1tw"
      },
      "outputs": [],
      "source": [
        "import cv2\n",
        "import matplotlib.pyplot as plt\n",
        "import h5py\n",
        "import numpy as np\n",
        "import os\n",
        "import tensorflow as tf\n",
        "import json"
      ]
    },
    {
      "cell_type": "markdown",
      "metadata": {
        "id": "YpfGRH205S3S"
      },
      "source": [
        "metrics.py\n"
      ]
    },
    {
      "cell_type": "code",
      "execution_count": null,
      "metadata": {
        "id": "eUr1aRsG64ME"
      },
      "outputs": [],
      "source": [
        "from keras import backend as K\n",
        "\n",
        "smooth_default = 1e-12\n",
        "\n",
        "def jacc_coef(y_true, y_pred, smooth = smooth_default):\n",
        "    y_true_f = K.flatten(y_true)\n",
        "    y_pred_f = K.flatten(y_pred)\n",
        "    intersection = K.sum(y_true_f * y_pred_f)\n",
        "    return (intersection + smooth) / (K.sum(y_true_f * y_true_f) + K.sum(y_pred_f * y_pred_f) - intersection + smooth)\n",
        "\n",
        "def dice_coef(y_true, y_pred, smooth = smooth_default, per_batch = True):\n",
        "    if not per_batch:\n",
        "        y_true_f = K.flatten(y_true)\n",
        "        y_pred_f = K.flatten(y_pred)\n",
        "        intersection = K.sum(y_true_f * y_pred_f)\n",
        "        return (2. * intersection + smooth) / (K.sum(y_true_f) + K.sum(y_pred_f) + smooth)\n",
        "    else:\n",
        "        y_true_f = K.batch_flatten(y_true)\n",
        "        y_pred_f = K.batch_flatten(y_pred)\n",
        "        intersec = 2. * K.sum(y_true_f * y_pred_f, axis=1, keepdims=True) + smooth\n",
        "        union = K.sum(y_true_f, axis=1, keepdims=True) + K.sum(y_pred_f, axis=1, keepdims=True) + smooth\n",
        "        return K.mean(intersec / union)\n",
        "\n",
        "def jacc_loss(y_true, y_pred):\n",
        "    return 1.0 - jacc_coef(y_true, y_pred)\n",
        "\n",
        "acc = tf.keras.metrics.BinaryAccuracy(threshold=0.6)\n",
        "\n",
        "def sensitivity(y_true, y_pred, threshold=0.6, smooth=smooth_default):\n",
        "    true = tf.cast(y_true, tf.float32)\n",
        "    pred = tf.cast(y_pred > threshold, tf.float32)\n",
        "\n",
        "    f_true = K.batch_flatten(true)\n",
        "    f_pred = K.batch_flatten(pred)\n",
        "    TP = K.sum(f_true * f_pred, axis=1, keepdims=True)\n",
        "    f_pred = 1.0 - f_pred\n",
        "    FN = K.sum(f_true * f_pred, axis=1, keepdims=True)\n",
        "\n",
        "    return (TP + smooth) / (FN + TP + smooth)\n",
        "\n",
        "def specificity(y_true, y_pred, threshold=0.6, smooth=smooth_default):\n",
        "    true = tf.cast(y_true, tf.float32)\n",
        "    pred = tf.cast(y_pred > threshold, tf.float32)\n",
        "\n",
        "    f_true = K.batch_flatten(true)\n",
        "    f_pred = K.batch_flatten(pred)\n",
        "    f_true = 1.0 - f_true\n",
        "\n",
        "    FP = K.sum(f_true * f_pred, axis=1, keepdims=True)\n",
        "    f_pred = 1.0 - f_pred\n",
        "    TN = K.sum(f_true * f_pred, axis=1, keepdims=True)\n",
        "\n",
        "    return (TN + smooth) / (TN + FP + smooth)"
      ]
    },
    {
      "cell_type": "markdown",
      "metadata": {
        "id": "b3pwe8MN5WxJ"
      },
      "source": [
        "Modelo"
      ]
    },
    {
      "cell_type": "code",
      "execution_count": null,
      "metadata": {
        "id": "QTISbgdm3l_1"
      },
      "outputs": [],
      "source": [
        "from keras import Input, Model\n",
        "from keras import layers\n",
        "from keras.optimizers import Adam\n",
        "\n",
        "ISZ = 160\n",
        "CH = 3\n",
        "\n",
        "def get_unet():\n",
        "    inputs = Input(shape=(ISZ, ISZ, CH))\n",
        "    conv1 = layers.Conv2D(32, (3, 3), padding='same', activation='relu', data_format='channels_last')(inputs)\n",
        "    conv1 = layers.Conv2D(32, (3, 3), padding='same', activation='relu', data_format='channels_last')(conv1)\n",
        "\n",
        "    pool1 = layers.MaxPooling2D(pool_size=(2, 2), data_format='channels_last')(conv1)\n",
        "    conv2 = layers.Conv2D(64, (3, 3), padding='same', activation='relu', data_format='channels_last')(pool1)\n",
        "    conv2 = layers.Conv2D(64, (3, 3), padding='same', activation='relu', data_format='channels_last')(conv2)\n",
        "\n",
        "    pool2 = layers.MaxPooling2D(pool_size=(2, 2), data_format='channels_last')(conv2)\n",
        "    conv3 = layers.Conv2D(128, (3, 3), padding='same', activation='relu', data_format='channels_last')(pool2)\n",
        "    conv3 = layers.Conv2D(128, (3, 3), padding='same', activation='relu', data_format='channels_last')(conv3)\n",
        "\n",
        "    pool3 = layers.MaxPooling2D(pool_size=(2, 2), data_format='channels_last')(conv3)\n",
        "    conv4 = layers.Conv2D(256, (3, 3), padding='same', activation='relu', data_format='channels_last')(pool3)\n",
        "    conv4 = layers.Conv2D(256, (3, 3), padding='same', activation='relu', data_format='channels_last')(conv4)\n",
        "\n",
        "    pool4 = layers.MaxPooling2D(pool_size=(2, 2), data_format='channels_last')(conv4)\n",
        "    conv5 = layers.Conv2D(512, (3, 3), padding='same', activation='relu', data_format='channels_last')(pool4)\n",
        "    conv5 = layers.Conv2D(512, (3, 3), padding='same', activation='relu', data_format='channels_last')(conv5)\n",
        "\n",
        "    up5 = layers.UpSampling2D(size=(2, 2), data_format='channels_last')(conv5)\n",
        "    up5 = layers.concatenate([conv4, up5])\n",
        "    conv6 = layers.Conv2D(256, (3, 3), padding='same', activation='relu', data_format='channels_last')(up5)\n",
        "    conv6 = layers.Conv2D(256, (3, 3), padding='same', activation='relu', data_format='channels_last')(conv6)\n",
        "\n",
        "    up6 = layers.UpSampling2D(size=(2, 2), data_format='channels_last')(conv6)\n",
        "    up6 = layers.concatenate([conv3, up6])\n",
        "    conv7 = layers.Conv2D(128, (3, 3), padding='same', activation='relu', data_format='channels_last')(up6)\n",
        "    conv7 = layers.Conv2D(128, (3, 3), padding='same', activation='relu', data_format='channels_last')(conv7)\n",
        "\n",
        "    up7 = layers.UpSampling2D(size=(2, 2), data_format='channels_last')(conv7)\n",
        "    up7 = layers.concatenate([conv2, up7])\n",
        "    conv8 = layers.Conv2D(64, (3, 3), padding='same', activation='relu', data_format='channels_last')(up7)\n",
        "    conv8 = layers.Conv2D(64, (3, 3), padding='same', activation='relu', data_format='channels_last')(conv8)\n",
        "\n",
        "    up8 = layers.UpSampling2D(size=(2, 2), data_format='channels_last')(conv8)\n",
        "    up8 = layers.concatenate([conv1, up8])\n",
        "    conv9 = layers.Conv2D(32, (3, 3), padding='same', activation='relu', data_format='channels_last')(up8)\n",
        "    conv9 = layers.Conv2D(32, (3, 3), padding='same', activation='relu', data_format='channels_last')(conv9)\n",
        "\n",
        "    model = layers.Conv2D(1, (1,1), activation='sigmoid')(conv9)\n",
        "    model = Model(inputs=inputs, outputs=model)\n",
        "    model.compile(optimizer = Adam(learning_rate=1e-5), loss = 'binary_crossentropy',\n",
        "                  metrics = ['accuracy', acc, jacc_loss, dice_coef, jacc_coef, sensitivity, specificity])\n",
        "    return model\n",
        "\n",
        "#model = get_unet()\n",
        "#model.summary()"
      ]
    },
    {
      "cell_type": "markdown",
      "metadata": {
        "id": "fl8gRrVqwcXt"
      },
      "source": [
        "Código de apoyo de Leo"
      ]
    },
    {
      "cell_type": "code",
      "execution_count": null,
      "metadata": {
        "id": "zns1jriavn4D"
      },
      "outputs": [],
      "source": [
        "\n",
        "def load_dataset(path):\n",
        "    f = h5py.File(path, 'r')\n",
        "    X_train = f['cities_train']\n",
        "    y_train = f['cities_train_mask']\n",
        "    X_val = f['not_cities_train']\n",
        "    y_val = f['not_cities_train_mask']\n",
        "    train_ids = f['city_ids']\n",
        "    val_ids = f['not_city_ids']\n",
        "\n",
        "    return X_train, y_train, train_ids, X_val, y_val, val_ids  ####################################\n",
        "\n",
        "def create_and_load(model_creator, weights_path):\n",
        "    model = model_creator()\n",
        "    model.load_weights(weights_path)\n",
        "    return model\n",
        "\n",
        "def CCCscale(x):\n",
        "  return (x - np.nanpercentile(x,2))/(np.nanpercentile(x,98) - np.nanpercentile(x,2))\n",
        "\n",
        "def CCCscaleImg(img):\n",
        "    img[:,:,0] = CCCscale(img[:,:,0])\n",
        "    img[:,:,1] = CCCscale(img[:,:,1])\n",
        "    img[:,:,2] = CCCscale(img[:,:,2])\n",
        "    return img\n",
        "\n",
        "def make_prediction(model,X_train, index_index, x,y):\n",
        "    ori_img = X_train[index_index]\n",
        "    ori_img = ori_img.transpose(1,2,0)\n",
        "    mask = model.predict(np.array([ori_img[x:x + 160,y:y + 160,:]]))\n",
        "    return mask[0,:,:,0]\n",
        "\n",
        "\n",
        "def comp_img_pred(model,X_train,y_train,index,x,y):\n",
        "    #PREDICTING MASK\n",
        "    img = X_train[index]\n",
        "    img = img.transpose(1,2,0)[x:x + 160,y:y + 160,:]\n",
        "    pred_mask = model.predict(np.array([img]))\n",
        "\n",
        "    #PREPARING THE IMAGE\n",
        "    img = img.astype(np.float32)\n",
        "    img *=2047\n",
        "    img = CCCscaleImg(img)\n",
        "\n",
        "    #CREATING PREDICTED MASK RGB\n",
        "    mask_rgb = np.zeros((160,160,3))\n",
        "    mask_rgb[:,:,2] = pred_mask[0,:,:,0]\n",
        "    mask_rgb = mask_rgb.astype(np.float32)\n",
        "\n",
        "    #PUTTING DE MASK IN THE IMAGE\n",
        "    alpha = 0.5\n",
        "    gamma = 0\n",
        "    img_result = cv2.addWeighted(img, alpha, mask_rgb, 1 - alpha, gamma)\n",
        "    img_result = CCCscaleImg(img_result)\n",
        "\n",
        "    #GETTING REAL MASK\n",
        "    real = y_train[index]#####################################\n",
        "    real = real[x:x + 160,y:y + 160]\n",
        "\n",
        "    #PUTTING THE REAL MASK IN OTHER IMAGE\n",
        "    new_mask_bool = real == 1\n",
        "    to_add = np.zeros((*new_mask_bool.shape, 3), dtype=np.uint8)\n",
        "    to_add[new_mask_bool] = [30, 95, 185]\n",
        "    to_add = to_add/255\n",
        "    to_add = to_add.astype(np.float32)\n",
        "    real_seg = cv2.addWeighted(img, alpha, to_add, 1 - alpha, gamma)\n",
        "    real_seg = CCCscaleImg(real_seg)\n",
        "\n",
        "    #PLOTING THE IMAGES\n",
        "    grid_size = (1, 3)\n",
        "    plt.subplot2grid(grid_size, (0, 0), rowspan = 1, colspan = 1)\n",
        "    plt.title('Imagen')\n",
        "    plt.imshow(img)\n",
        "    plt.subplot2grid(grid_size, (0, 1), rowspan = 1, colspan = 1)\n",
        "    plt.title('Real')\n",
        "    plt.imshow(real_seg)\n",
        "    plt.subplot2grid(grid_size, (0, 2), rowspan = 1, colspan = 1)\n",
        "    plt.title('Predicción')\n",
        "    plt.imshow(img_result)\n",
        "    plt.savefig('fig')\n",
        "    plt.show()\n"
      ]
    },
    {
      "cell_type": "code",
      "execution_count": null,
      "metadata": {
        "id": "74hD_vZgwY_U"
      },
      "outputs": [],
      "source": [
        "X_train, y_train, train_ids, X_val, y_val, val_ids = load_dataset('/content/drive/MyDrive/splited_train_rgb.h5')\n",
        "model = create_and_load(get_unet, '/content/drive/MyDrive/last_weight.hdf5')\n",
        "\n"
      ]
    },
    {
      "cell_type": "code",
      "execution_count": null,
      "metadata": {
        "id": "GipvPjGs9hs5"
      },
      "outputs": [],
      "source": [
        "def get_img(X_train,index,x,y):\n",
        "  img = X_train[index]\n",
        "  img = img.transpose(1,2,0)[x:x + 160,y:y + 160,:]\n",
        "  return img\n",
        "\n",
        "def get_mask(y_train,index,x,y):\n",
        "  real = y_train[index]#####################################\n",
        "  real = real[x:x + 160,y:y + 160]\n",
        "  return real\n",
        "\n",
        "def plot_FP_FN(fp_mask,fn_mask,X_train,img_id,x,y):\n",
        "  #fp rojo\n",
        "  #fn azul\n",
        "    #PREDICTING MASK\n",
        "  i,j=fp_mask.shape #####################3\n",
        "\n",
        "  img = X_train[img_id]\n",
        "  img = img.transpose(1,2,0)[x:x + i,y:y + j,:]\n",
        "\n",
        "  #PREPARING THE IMAGE\n",
        "  img = img.astype(np.float32)\n",
        "  img *=2047\n",
        "  img = CCCscaleImg(img)\n",
        "\n",
        "  #CREATING FP RGB RED MASK\n",
        "  rgb_fp = np.zeros((i,j,3))\n",
        "  rgb_fp[:,:,0] = fp_mask\n",
        "  rgb_fp = rgb_fp.astype(np.float32)\n",
        "\n",
        "  #CREATING FN RGB BLUE MASK\n",
        "  # rgb_fn = np.zeros((160,160,3))\n",
        "  rgb_fn = np.zeros((i,j,3))\n",
        "  rgb_fn[:,:,2] = fn_mask#####################################3 por 2\n",
        "  rgb_fn = rgb_fn.astype(np.float32)\n",
        "\n",
        "  #PUTTING THE IN THEMASKING DE IMAGE\n",
        "  alpha = 0.5 #TRANSPARENCE\n",
        "  gamma = 0  #IDK\n",
        "  img_result = cv2.addWeighted(img, alpha, rgb_fp, 1 - alpha, gamma)\n",
        "  img_result = cv2.addWeighted(img_result, alpha, rgb_fn, 1 - alpha, gamma)\n",
        "  img_result = CCCscaleImg(img_result)\n",
        "\n",
        "  grid_size = (1, 2)\n",
        "  plt.subplot2grid(grid_size, (0, 0), rowspan = 1, colspan = 1)\n",
        "  plt.title('Imagen')\n",
        "  plt.imshow(img)\n",
        "  plt.subplot2grid(grid_size, (0, 1), rowspan = 1, colspan = 1)\n",
        "  plt.title('FP(RED)/FN(BLUE)')\n",
        "  plt.imshow(img_result)\n",
        "  plt.savefig('fig')\n",
        "  plt.show()\n",
        "\n",
        "\n",
        "\n",
        "def save_json(data,name):\n",
        "  for i in data.keys():\n",
        "    # fp_fn[i]={}\n",
        "    for x in data[i].keys():\n",
        "      # fp_fn[i][x]={}\n",
        "      for y in data[i][x].keys():\n",
        "        data[i][x][y] = data[i][x][y].tolist()\n",
        "\n",
        "  with open(f'{name}.json', 'w') as f:\n",
        "    json.dump(data, f)\n"
      ]
    },
    {
      "cell_type": "code",
      "execution_count": null,
      "metadata": {
        "id": "rj9_ZDxS9veu"
      },
      "outputs": [],
      "source": [
        "def get_all_predictions(model,X_train,y_train):\n",
        "  l1, l2, l3, l4 = X_train.shape\n",
        "  l1=1  ####borrar\n",
        "  # l3=400   ###borrar\n",
        "  # l4=400   ####borrar\n",
        "\n",
        "  predictions:dict={}\n",
        "  for i in range(l1):\n",
        "    predictions[i] = {}\n",
        "    x=0\n",
        "    while(x<l3):\n",
        "      predictions[i][x]={}\n",
        "      y=0\n",
        "      rx = x\n",
        "      if l3-160 < x:\n",
        "        x = l3-160\n",
        "\n",
        "      while(y<l4):\n",
        "        ry = y\n",
        "        if l4-160 < y:\n",
        "          y = l4-160\n",
        "\n",
        "        prediction = make_prediction(model,X_train, i , x,y)\n",
        "\n",
        "        if rx != x:\n",
        "          prediction = prediction[rx-x:,:]\n",
        "\n",
        "        if ry != y:\n",
        "          prediction = prediction[:,ry-y:]\n",
        "\n",
        "        predictions[i][rx][ry] = prediction\n",
        "\n",
        "        if ry != y:\n",
        "          break\n",
        "        y+=160\n",
        "\n",
        "      if rx != x:\n",
        "        break\n",
        "      x+=160\n",
        "\n",
        "  return predictions\n",
        "\n"
      ]
    },
    {
      "cell_type": "markdown",
      "metadata": {
        "id": "A52jcdE8I2cA"
      },
      "source": [
        "Las predicciones se guardan en un diccionario que tiene como primera llave `img_id` o lo que sería la imagen actual, este valor es nuevamente un diccionario que tiene como llave la coordenada `x` del punto `x_0` en el que se comienza este fragmento de la imagen y este igualmente tiene como valor un diccionario cuya llave es la coordenada `y` del punto `y_0` en el que se comienza este fragmento de la imagen, para finalmente obtener la máscara de la predicción de la imagen `img_id` que comienza en `(x_0,y_0)`"
      ]
    },
    {
      "cell_type": "code",
      "execution_count": null,
      "metadata": {
        "id": "yFfNU__zpNFr"
      },
      "outputs": [],
      "source": [
        "def get_predictions_mask_for_one_image(model, img_id:int,pred:dict):\n",
        "  join_all = np.zeros((,))\n",
        "  for i in predictions_cities_train.keys():\n",
        "    for x in predictions_cities_train[i].keys():\n",
        "      for y in predictions_cities_train[i][x].keys():\n",
        "\n",
        "\n"
      ]
    },
    {
      "cell_type": "code",
      "execution_count": null,
      "metadata": {
        "colab": {
          "base_uri": "https://localhost:8080/"
        },
        "id": "ldLXHPHg1O2E",
        "outputId": "71abe25d-c837-4f10-d46d-f803d2021238"
      },
      "outputs": [
        {
          "name": "stdout",
          "output_type": "stream",
          "text": [
            "1/1 [==============================] - 0s 474ms/step\n",
            "1/1 [==============================] - 0s 384ms/step\n",
            "1/1 [==============================] - 0s 237ms/step\n",
            "1/1 [==============================] - 0s 383ms/step\n",
            "1/1 [==============================] - 1s 789ms/step\n",
            "1/1 [==============================] - 1s 647ms/step\n",
            "1/1 [==============================] - 1s 512ms/step\n",
            "1/1 [==============================] - 1s 557ms/step\n",
            "1/1 [==============================] - 0s 433ms/step\n"
          ]
        }
      ],
      "source": [
        "predictions_cities_train = get_all_predictions(model,X_train,y_train)\n",
        "\n",
        "# save_json(predictions_cities_train,\"predictions_cities_train\")\n",
        "\n"
      ]
    },
    {
      "cell_type": "code",
      "execution_count": null,
      "metadata": {
        "colab": {
          "base_uri": "https://localhost:8080/"
        },
        "id": "Fk3mkrB8uV68",
        "outputId": "7d544061-ac30-47ea-8efe-4e88825338d1"
      },
      "outputs": [
        {
          "name": "stdout",
          "output_type": "stream",
          "text": [
            "1/1 [==============================] - 1s 508ms/step\n",
            "1/1 [==============================] - 0s 457ms/step\n",
            "1/1 [==============================] - 1s 612ms/step\n",
            "1/1 [==============================] - 1s 755ms/step\n",
            "1/1 [==============================] - 0s 432ms/step\n",
            "1/1 [==============================] - 0s 429ms/step\n",
            "1/1 [==============================] - 0s 409ms/step\n",
            "1/1 [==============================] - 1s 509ms/step\n",
            "1/1 [==============================] - 0s 220ms/step\n"
          ]
        }
      ],
      "source": [
        "predictions_not_cities_val = get_all_predictions(model,X_val,y_val)\n",
        "# save_json(predictions_not_cities_val,\"predictions_not_cities_val\")\n"
      ]
    },
    {
      "cell_type": "code",
      "execution_count": null,
      "metadata": {
        "colab": {
          "base_uri": "https://localhost:8080/"
        },
        "id": "20-jgSRRFaLw",
        "outputId": "974004e2-2f9f-43ea-b41a-111eb9ada5b4"
      },
      "outputs": [
        {
          "name": "stdout",
          "output_type": "stream",
          "text": [
            "Requirement already satisfied: scikit-learn in /usr/local/lib/python3.10/dist-packages (1.3.0)\n",
            "Requirement already satisfied: numpy>=1.17.3 in /usr/local/lib/python3.10/dist-packages (from scikit-learn) (1.22.4)\n",
            "Requirement already satisfied: scipy>=1.5.0 in /usr/local/lib/python3.10/dist-packages (from scikit-learn) (1.10.1)\n",
            "Requirement already satisfied: joblib>=1.1.1 in /usr/local/lib/python3.10/dist-packages (from scikit-learn) (1.2.0)\n",
            "Requirement already satisfied: threadpoolctl>=2.0.0 in /usr/local/lib/python3.10/dist-packages (from scikit-learn) (3.1.0)\n"
          ]
        }
      ],
      "source": [
        "!pip install -U scikit-learn"
      ]
    },
    {
      "cell_type": "code",
      "execution_count": null,
      "metadata": {
        "id": "GxtWLS1HGg1N"
      },
      "outputs": [],
      "source": [
        "from sklearn.metrics import confusion_matrix\n",
        "\n",
        "\n",
        "\n",
        "# def preprocess_predictions(predictions:list,threshold:int = 0.5):\n",
        "#   pred=[]\n",
        "#   for i in range(len(predictions)):\n",
        "#     predictions[i] = predictions[i].flatten().tolist()\n",
        "#     for j in range(len(predictions[i])):\n",
        "#       predictions[i][j] = 1 if predictions[i][j] >= threshold else 0\n",
        "#   return predictions\n",
        "\n",
        "# def preprocess_reals(reals:list):\n",
        "#   reals_new=[]\n",
        "#   for i in range(len(reals)):\n",
        "#     reals_new.append(reals[i].flatten().tolist())\n",
        "#   return reals_new\n",
        "\n",
        "\n",
        "def bit_matrix(pred, threshold = 0.5):\n",
        "  r,c=pred.shape\n",
        "  for i in range(r):\n",
        "    for j in range(c):\n",
        "      # print(i,j)\n",
        "      pred[i][j]=1 if pred[i][j] >= threshold else 0\n",
        "  return pred\n",
        "\n",
        "\n",
        "def confusion_matrix_s(predictions:list,reals:list):\n",
        "  confusion_matrixs = []\n",
        "  for i in range(len(predictions)):\n",
        "    if len(reals[i])== len(predictions[i]):\n",
        "      confusion_matrixs.append(confusion_matrix(y_true=reals[i], y_pred= predictions[i]))\n",
        "    # else:\n",
        "    #   predictions.pop(i)\n",
        "    #   reals.pop(i)\n",
        "  return confusion_matrixs\n",
        "\n",
        "\n"
      ]
    },
    {
      "cell_type": "code",
      "execution_count": null,
      "metadata": {
        "id": "jeeAPFVoOJq7"
      },
      "outputs": [],
      "source": [
        "predictions = []\n",
        "reals=[]\n",
        "for i in predictions_cities_train.keys():\n",
        "  for x in predictions_cities_train[i].keys():\n",
        "    for y in predictions_cities_train[i][x].keys():\n",
        "      predictions.append(bit_matrix(predictions_cities_train[i][x][y], 0.3).flatten().tolist())\n",
        "      reals.append(get_mask(y_train,i,x,y).flatten().tolist())\n",
        "\n",
        "# print(predictions)\n",
        "\n",
        "cm = confusion_matrix_s(predictions,reals)\n",
        "cmm = np.zeros((2,2))\n",
        "\n",
        "for i in cm:\n",
        "  cmm += i\n",
        "cmm = [cmm]"
      ]
    },
    {
      "cell_type": "code",
      "execution_count": 31,
      "metadata": {
        "colab": {
          "base_uri": "https://localhost:8080/",
          "height": 1000
        },
        "id": "_8xz-39xfQvl",
        "outputId": "8c7dc4ff-1cb5-4017-b8b0-36e3f101d192"
      },
      "outputs": [
        {
          "data": {
            "image/png": "[encoded data removed]",
            "text/plain": [
              "<Figure size 640x480 with 2 Axes>"
            ]
          },
          "metadata": {},
          "output_type": "display_data"
        },
        {
          "data": {
            "image/png": "[encoded data removed]",
            "text/plain": [
              "<Figure size 640x480 with 2 Axes>"
            ]
          },
          "metadata": {},
          "output_type": "display_data"
        },
        {
          "data": {
            "image/png": "[encoded data removed]",
            "text/plain": [
              "<Figure size 640x480 with 2 Axes>"
            ]
          },
          "metadata": {},
          "output_type": "display_data"
        },
        {
          "data": {
            "image/png": "[encoded data removed]",
            "text/plain": [
              "<Figure size 640x480 with 2 Axes>"
            ]
          },
          "metadata": {},
          "output_type": "display_data"
        }
      ],
      "source": [
        "# Esta es mia\n",
        "from sklearn.metrics import ConfusionMatrixDisplay\n",
        "\n",
        "def display_confusion_matrix_s(confusion_matrixs:list):\n",
        "  for confusion_matrix_s in confusion_matrixs:\n",
        "    confusionMatrixDisplay = ConfusionMatrixDisplay(\n",
        "        confusion_matrix = confusion_matrix_s\n",
        "    )\n",
        "\n",
        "    confusionMatrixDisplay.plot(cmap=\"Blues\")\n",
        "    plt.show()\n",
        "\n",
        "display_confusion_matrix_s(cm)"
      ]
    },
    {
      "cell_type": "code",
      "execution_count": 32,
      "metadata": {
        "colab": {
          "base_uri": "https://localhost:8080/",
          "height": 449
        },
        "id": "n22OHYZjmgk-",
        "outputId": "ae036217-8cd5-4d1d-ea54-2e3f37ef2bf3"
      },
      "outputs": [
        {
          "data": {
            "image/png": "[encoded data removed]",
            "text/plain": [
              "<Figure size 640x480 with 2 Axes>"
            ]
          },
          "metadata": {},
          "output_type": "display_data"
        }
      ],
      "source": [
        "def display_confusion_matrix_s_full(confusion_matrixs:list):\n",
        "  cmm = np.zeros((2,2))\n",
        "\n",
        "  for i in confusion_matrixs:\n",
        "    cmm += i\n",
        "  cmm = [cmm]\n",
        "  for confusion_matrix_s in cmm:\n",
        "    confusionMatrixDisplay = ConfusionMatrixDisplay(\n",
        "        confusion_matrix = confusion_matrix_s\n",
        "    )\n",
        "\n",
        "    confusionMatrixDisplay.plot(cmap=\"Blues\")\n",
        "    plt.show()\n",
        "\n",
        "display_confusion_matrix_s_full(cm)"
      ]
    }
  ],
  "metadata": {
    "colab": {
      "provenance": []
    },
    "kernelspec": {
      "display_name": "Python 3",
      "language": "python",
      "name": "python3"
    },
    "language_info": {
      "name": "python",
      "version": "3.9.9"
    },
    "vscode": {
      "interpreter": {
        "hash": "397704579725e15f5c7cb49fe5f0341eb7531c82d19f2c29d197e8b64ab5776b"
      }
    }
  },
  "nbformat": 4,
  "nbformat_minor": 0
}
